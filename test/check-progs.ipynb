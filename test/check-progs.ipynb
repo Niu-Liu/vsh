{
 "cells": [
  {
   "cell_type": "markdown",
   "metadata": {},
   "source": [
    "Check the results of the fit"
   ]
  },
  {
   "cell_type": "code",
   "execution_count": 1,
   "metadata": {},
   "outputs": [],
   "source": [
    "from astropy.table import Table\n",
    "import numpy as np\n",
    "\n",
    "# My modules\n",
    "from vsh_fit import vsh_fit\n",
    "from pmt_convert import st_to_rotgld, st_to_rotgldquad"
   ]
  },
  {
   "cell_type": "code",
   "execution_count": 2,
   "metadata": {},
   "outputs": [],
   "source": [
    "test_tab = Table.read(\"test.csv\")\n",
    "\n",
    "# Transform astropy.Column into np.array and mas -> uas\n",
    "dra = np.array(test_tab[\"dra\"] * 1e3)\n",
    "ddec = np.array(test_tab[\"ddec\"] * 1e3)\n",
    "dra_err = np.array(test_tab[\"dra_err\"] * 1e3)\n",
    "ddec_err = np.array(test_tab[\"ddec_err\"] * 1e3)\n",
    "ra = np.array(test_tab[\"ra\"])\n",
    "dec = np.array(test_tab[\"dec\"])\n",
    "dra_ddec_cov = np.array(test_tab[\"dra_ddec_cov\"] * 1e6)"
   ]
  },
  {
   "cell_type": "code",
   "execution_count": 3,
   "metadata": {},
   "outputs": [
    {
     "data": {
      "text/plain": [
       "(array([-32.22542036,  37.21703988,  30.27658599,  25.70240445,\n",
       "        -32.12059929, -40.79822713]),\n",
       " array([4.54000732, 4.34205691, 4.58252532, 4.81269249, 4.53321304,\n",
       "        4.3168119 ]),\n",
       " array([[ 1.        , -0.00745872, -0.02508901,  0.01581301, -0.29735471,\n",
       "          0.09615023],\n",
       "        [-0.00745872,  1.        ,  0.00685353,  0.28753324,  0.00466684,\n",
       "         -0.00370987],\n",
       "        [-0.02508901,  0.00685353,  1.        , -0.08203864, -0.03746342,\n",
       "         -0.01383566],\n",
       "        [ 0.01581301,  0.28753324, -0.08203864,  1.        ,  0.04156129,\n",
       "         -0.13870722],\n",
       "        [-0.29735471,  0.00466684, -0.03746342,  0.04156129,  1.        ,\n",
       "         -0.16387021],\n",
       "        [ 0.09615023, -0.00370987, -0.01383566, -0.13870722, -0.16387021,\n",
       "          1.        ]]))"
      ]
     },
     "execution_count": 3,
     "metadata": {},
     "output_type": "execute_result"
    }
   ],
   "source": [
    "pmt, err, cor_mat = vsh_fit(dra, ddec, dra_err, ddec_err, ra, dec, dra_ddec_cov, l_max=1)\n",
    "\n",
    "pmt1, err1, cor_mat1 = st_to_rotgld(pmt, err, cor_mat)\n",
    "\n",
    "pmt1, err1, cor_mat1"
   ]
  },
  {
   "cell_type": "markdown",
   "metadata": {},
   "source": [
    "Results from my previous codes\n",
    "\n",
    "           D1      -32    30\n",
    "           D2       37    28\n",
    "           D3       30    30\n",
    "            \n",
    "           R1       26    32\n",
    "           R2      -32    30\n",
    "           R3      -41    28\n",
    "           \n",
    "It seems that the estimates are OK, but the formal uncertainties are not."
   ]
  },
  {
   "cell_type": "code",
   "execution_count": 4,
   "metadata": {},
   "outputs": [
    {
     "data": {
      "text/plain": [
       "(array([-27.91957535,  48.74109337,  14.24527368,  32.1815365 ,\n",
       "        -46.97382569, -43.57535603,  37.25084014,  -2.95837627,\n",
       "          9.18214245, -50.49291433,  41.28721674,   2.00079793,\n",
       "          1.11102175,  25.83199096,  72.00657847, -11.85504588]),\n",
       " array([4.91534304, 4.71108004, 4.94997283, 5.10932304, 4.78591296,\n",
       "        4.51208235, 2.90686057, 2.88012742, 5.66141076, 6.06058816,\n",
       "        5.53811358, 3.02971937, 3.06515958, 5.86294055, 5.93017668,\n",
       "        5.07342176]))"
      ]
     },
     "execution_count": 4,
     "metadata": {},
     "output_type": "execute_result"
    }
   ],
   "source": [
    "pmt, err, cor_mat = vsh_fit(dra, ddec, dra_err, ddec_err, \n",
    "                               ra, dec, dra_ddec_cov, l_max=2)\n",
    "\n",
    "pmt2, err2, cor_mat2 = st_to_rotgldquad(pmt, err, cor_mat)\n",
    "\n",
    "pmt2, err2"
   ]
  },
  {
   "cell_type": "markdown",
   "metadata": {},
   "source": [
    "Results from my previous codes\n",
    "\n",
    "           D1      -28    32\n",
    "           D2       49    31\n",
    "           D3       14    32\n",
    "           R1       32    33\n",
    "           R2      -47    31\n",
    "           R3      -44    30\n",
    "         E22R       37    19\n",
    "         E22I       -3    19\n",
    "         E21R        9    37\n",
    "         E21I      -50    40\n",
    "          E20       41    36\n",
    "         M22R        2    20\n",
    "         M22I        1    20\n",
    "         M21R       26    38\n",
    "         M21I       72    39\n",
    "          M20      -12    33"
   ]
  },
  {
   "cell_type": "code",
   "execution_count": 5,
   "metadata": {},
   "outputs": [
    {
     "name": "stdout",
     "output_type": "stream",
     "text": [
      "               Rotation [uas]                            Glide [uas]\n",
      "     R1            R2            R3             G1            G2            G3         \n",
      "-----------------------------------------   -----------------------------------------\n",
      " -32 +/-    5   37 +/-    4   30 +/-    5   26 +/-    5  -32 +/-    5  -41 +/-    4  \n"
     ]
    }
   ],
   "source": [
    "print(\"               Rotation [uas]             \"\n",
    "      \"               Glide [uas]\")\n",
    "print(\"     R1            R2            R3        \"\n",
    "      \"     G1            G2            G3         \")\n",
    "print(\"-----------------------------------------   \"\n",
    "      \"-----------------------------------------\")\n",
    "print(\"{0:4.0f} +/- {6:4.0f} {1:4.0f} +/- {7:4.0f} \"\n",
    "      \"{2:4.0f} +/- {8:4.0f} {3:4.0f} +/- {9:4.0f} \"\n",
    "      \"{4:4.0f} +/- {10:4.0f} {5:4.0f} +/- {11:4.0f}  \".format(*pmt1, *err1))"
   ]
  }
 ],
 "metadata": {
  "kernelspec": {
   "display_name": "Python 3",
   "language": "python",
   "name": "python3"
  },
  "language_info": {
   "codemirror_mode": {
    "name": "ipython",
    "version": 3
   },
   "file_extension": ".py",
   "mimetype": "text/x-python",
   "name": "python",
   "nbconvert_exporter": "python",
   "pygments_lexer": "ipython3",
   "version": "3.7.9"
  }
 },
 "nbformat": 4,
 "nbformat_minor": 4
}
