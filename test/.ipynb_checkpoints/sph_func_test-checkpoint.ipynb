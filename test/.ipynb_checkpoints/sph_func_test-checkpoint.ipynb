{
 "cells": [
  {
   "cell_type": "markdown",
   "metadata": {},
   "source": [
    "In this note, I test my codes of calculating the vector spherical harmonics."
   ]
  },
  {
   "cell_type": "code",
   "execution_count": 1,
   "metadata": {},
   "outputs": [],
   "source": [
    "from scipy.special import lpmn, lpmv\n",
    "import numpy as np\n",
    "from numpy import sqrt, pi, sin, cos, exp\n",
    "from math import factorial\n",
    "import sys"
   ]
  },
  {
   "cell_type": "code",
   "execution_count": 2,
   "metadata": {},
   "outputs": [],
   "source": [
    "# Use the scipy module\n",
    "l_max = 5\n",
    "l = np.arange(l_max+1)\n",
    "m = np.arange(l_max+1)\n",
    "\n",
    "x = 0.5\n",
    "legfunc, dlegfunc = lpmn(l_max, l_max, x)"
   ]
  },
  {
   "cell_type": "code",
   "execution_count": 3,
   "metadata": {},
   "outputs": [],
   "source": [
    "def legendre_func(l, m, x):\n",
    "    \"\"\"Calculate the Associated Legendre function at x.\n",
    "    \n",
    "    Please note that here 'l' and 'm' correspond to 'm' and 'n' in the scipy.special.legendre.\n",
    "    \"\"\"\n",
    "    \n",
    "    if x > 1:\n",
    "        print(\"For x={:.f}, |x| > 1, which is not supported.\".format(x))\n",
    "        sys.exit()\n",
    "        \n",
    "    if l < m:\n",
    "        print(\"Illegal inpput: l={:d} < m={:d}\".format(l, m))\n",
    "        sys.exit()\n",
    "    \n",
    "    if m == l:\n",
    "        \n",
    "        if m:\n",
    "            return (2*m -1) * sqrt(1-x**2) * legendre_func(m-1, m-1, x)\n",
    "        else:\n",
    "            return 1\n",
    "    \n",
    "    elif l - m == 1:\n",
    "        return (2 * m + 1) * x * legendre_func(m, m, x)\n",
    "    \n",
    "    else:\n",
    "        return ((2*l-1)*x*legendre_func(l-1, m, x) - (l-1+m)*legendre_func(l-2, m, x)) / (l-m)"
   ]
  },
  {
   "cell_type": "code",
   "execution_count": 4,
   "metadata": {},
   "outputs": [
    {
     "name": "stdout",
     "output_type": "stream",
     "text": [
      "Comparison of results\n",
      "             Mine    |     scipy    \n",
      "l,m=0,0      1.00      1.00  \n",
      "l,m=1,0      0.50      0.50  \n",
      "l,m=1,1      0.87     -0.87  \n",
      "l,m=2,0     -0.12     -0.12  \n",
      "l,m=2,1      1.30     -1.30  \n",
      "l,m=2,2      2.25      2.25  \n",
      "l,m=3,0     -0.44     -0.44  \n",
      "l,m=3,1      0.32     -0.32  \n",
      "l,m=3,2      5.62      5.62  \n",
      "l,m=3,3      9.74     -9.74  \n",
      "l,m=4,0     -0.29     -0.29  \n",
      "l,m=4,1     -1.35      1.35  \n",
      "l,m=4,2      4.22      4.22  \n",
      "l,m=4,3     34.10    -34.10  \n",
      "l,m=4,4     59.06     59.06  \n",
      "l,m=5,0      0.09      0.09  \n",
      "l,m=5,1     -1.93      1.93  \n",
      "l,m=5,2     -4.92     -4.92  \n",
      "l,m=5,3     42.62    -42.62  \n",
      "l,m=5,4    265.78    265.78  \n",
      "l,m=5,5    460.35   -460.35  \n"
     ]
    }
   ],
   "source": [
    "print(\"Comparison of results\")\n",
    "print(\"             Mine    |     scipy    \")\n",
    "# for (li, mi) in zip(l, m):\n",
    "\n",
    "for li in l:\n",
    "    for mi in range(li+1):\n",
    "        li = int(li)\n",
    "        mi = int(mi)\n",
    "        print(\"l,m={:1d},{:1d}  {:8.2f}  {:8.2f}  \".format(\n",
    "                  li, mi, legendre_func(li, mi, x), legfunc[mi,li]))"
   ]
  },
  {
   "cell_type": "markdown",
   "metadata": {},
   "source": [
    "My calculation of the Legendre function seems correct :-)"
   ]
  },
  {
   "cell_type": "code",
   "execution_count": 5,
   "metadata": {},
   "outputs": [],
   "source": [
    "def B_coef(l, m, x):\n",
    "    \"\"\"\n",
    "    \"\"\"\n",
    "    \n",
    "    if type(l) is not int:\n",
    "        \n",
    "        print(\"The type of 'l' should be int!\")\n",
    "        sys.exit()\n",
    "        \n",
    "    elif type(m) is not int:\n",
    "        print(\"The type of 'm' should be int!\")\n",
    "        sys.exit()\n",
    "    \n",
    "    if m == 0:\n",
    "        return 0\n",
    "\n",
    "    if l == m:\n",
    "        if m == 1:\n",
    "            return 1\n",
    "        else:\n",
    "            return (2*m - 1) * m / (m - 1) * sqrt(1-x*x) * B_coef(m-1, m-1, x)\n",
    "        \n",
    "    elif l - m == 1:\n",
    "        return (2*m + 1) * x * B_coef(m, m, x)\n",
    "    \n",
    "    elif l -m >= 2:\n",
    "        return ((2*l-1)*x*B_coef(l-1, m, x) - (l-1+m)*B_coef(l-2, m, x)) / (l-m)\n",
    "    else:\n",
    "        return 0"
   ]
  },
  {
   "cell_type": "code",
   "execution_count": 6,
   "metadata": {},
   "outputs": [
    {
     "name": "stdout",
     "output_type": "stream",
     "text": [
      "B:\n",
      "Calculated: -11.366583424670758\n",
      "Predicted:  -11.366583424670758\n"
     ]
    }
   ],
   "source": [
    "l = 5\n",
    "m = 2\n",
    "x = 0.5\n",
    "\n",
    "print(\"B:\")\n",
    "print(\"Calculated:\", B_coef(l, m, x))\n",
    "print(\"Predicted: \", m * legendre_func(l, m, x) / sqrt(1-x*x))"
   ]
  },
  {
   "cell_type": "markdown",
   "metadata": {},
   "source": [
    "The calculation of $B_{l,m}$ seems good, too."
   ]
  },
  {
   "cell_type": "code",
   "execution_count": 7,
   "metadata": {},
   "outputs": [],
   "source": [
    "def A_coef(l, m, x):\n",
    "    \"\"\"\n",
    "    \"\"\"\n",
    "    \n",
    "    if type(l) is not int:\n",
    "        \n",
    "        print(\"The type of 'l' should be int!\")\n",
    "        sys.exit()\n",
    "        \n",
    "    elif type(m) is not int:\n",
    "        print(\"The type of 'm' should be int!\")\n",
    "        sys.exit()\n",
    "    \n",
    "    if m == 0:\n",
    "        return sqrt(1 - x*x) * B_coef(l, 1, x)\n",
    "    else:\n",
    "        return (-x * l * B_coef(l, m, x) + (l+m) * B_coef(l-1, m, x)) / m"
   ]
  },
  {
   "cell_type": "code",
   "execution_count": 8,
   "metadata": {},
   "outputs": [],
   "source": [
    "# print(\"A:\")\n",
    "# print(\"Calculated:\", A_coef(l, m, x))\n",
    "# print(\"Predicted: \", dlegfunc[-1,-1] * sqrt(1-x*x))"
   ]
  },
  {
   "cell_type": "markdown",
   "metadata": {},
   "source": [
    "So does $A_{l,m}$."
   ]
  },
  {
   "cell_type": "code",
   "execution_count": 9,
   "metadata": {},
   "outputs": [],
   "source": [
    "def vec_sph_harm_calc(l, m, ra, dec):\n",
    "    \"\"\"\n",
    "    \"\"\"\n",
    "    \n",
    "    fac1 = (2*l+1) / l / (l+1) / (4 * pi) * factorial(l-m) / factorial(l+m)\n",
    "#     fac2 = (-1)**m * sqrt(fac1) * exp(complex(0, m*ra))\n",
    "    fac2 = (-1)**m * sqrt(fac1) * (cos(m*ra)+sin(m*ra)*(0+1j))\n",
    "    \n",
    "    x = sin(dec)\n",
    "    \n",
    "    facA = fac2 * A_coef(l, m, x)\n",
    "    facB = fac2 * B_coef(l, m, x)\n",
    "\n",
    "    t_vec_ra = facA\n",
    "    t_vec_dc = facB * (0-1j)\n",
    "    \n",
    "    s_vec_ra = facB * (0+1j)\n",
    "    s_vec_dc = facA\n",
    "    \n",
    "    \n",
    "    return t_vec_ra, t_vec_dc, s_vec_ra, s_vec_dc"
   ]
  },
  {
   "cell_type": "markdown",
   "metadata": {},
   "source": [
    "Then I compare my results with the spherical harmonics wrapper from scipy.special."
   ]
  },
  {
   "cell_type": "code",
   "execution_count": 10,
   "metadata": {},
   "outputs": [
    {
     "data": {
      "text/plain": [
       "(0.13398342629807677+0.07735536724014297j)"
      ]
     },
     "execution_count": 10,
     "metadata": {},
     "output_type": "execute_result"
    }
   ],
   "source": [
    "from scipy.special import sph_harm\n",
    "\n",
    "ra = pi / 3\n",
    "dec = pi / 4\n",
    "\n",
    "vec_sph_harm_calc(l, m, ra, dec)[1]"
   ]
  },
  {
   "cell_type": "code",
   "execution_count": 11,
   "metadata": {},
   "outputs": [
    {
     "name": "stdout",
     "output_type": "stream",
     "text": [
      "T_{l,m}: (0.1339834262980768+0.07735536724014298j)\n"
     ]
    }
   ],
   "source": [
    "fac = (0-1j) * (-1)**m / sqrt(l * (l+1)) * m / sqrt(1-sin(dec)**2)\n",
    "\n",
    "\n",
    "print(\"T_{l,m}:\", fac * sph_harm(m, l, ra, dec))"
   ]
  },
  {
   "cell_type": "markdown",
   "metadata": {},
   "source": [
    "As it shows, these two results only differ by a factor."
   ]
  },
  {
   "cell_type": "code",
   "execution_count": 12,
   "metadata": {},
   "outputs": [],
   "source": [
    "l_max = 5\n",
    "l = np.arange(l_max+1)\n",
    "m = np.arange(l_max+1)\n",
    "\n",
    "x = 0.5\n",
    "legfunc, dlegfunc = lpmn(l_max, l_max, x)\n",
    "\n",
    "fac = np.sqrt(1-x*x)\n",
    "Afunc = fac * dlegfunc\n",
    "Bfunc = m.reshape(l_max+1,1) * legfunc / fac"
   ]
  },
  {
   "cell_type": "code",
   "execution_count": 13,
   "metadata": {
    "scrolled": false
   },
   "outputs": [
    {
     "name": "stdout",
     "output_type": "stream",
     "text": [
      "             Mine    |     scipy    \n",
      "          Amn   Bmn  |  Amn   Bmn\n",
      "l,m=0,0      0.00      0.00  |      0.00      0.00 \n",
      "l,m=1,0      0.87      0.00  |      0.87      0.00 \n",
      "l,m=1,1     -0.50      1.00  |      0.50     -1.00 \n",
      "l,m=2,0      1.30      0.00  |      1.30     -0.00 \n",
      "l,m=2,1      1.50      1.50  |     -1.50     -1.50 \n",
      "l,m=2,2     -2.60      5.20  |     -2.60      5.20 \n",
      "l,m=3,0      0.32      0.00  |      0.32     -0.00 \n",
      "l,m=3,1      5.44      0.38  |     -5.44     -0.38 \n",
      "l,m=3,2      3.25     12.99  |      3.25     12.99 \n",
      "l,m=3,3    -16.88     33.75  |     16.88    -33.75 \n",
      "l,m=4,0     -1.35      0.00  |     -1.35     -0.00 \n",
      "l,m=4,1      5.00     -1.56  |     -5.00      1.56 \n",
      "l,m=4,2     29.23      9.74  |     29.23      9.74 \n",
      "l,m=4,3      0.00    118.12  |      0.00   -118.12 \n",
      "l,m=4,4   -136.40    272.80  |   -136.40    272.80 \n",
      "l,m=5,0     -1.93      0.00  |     -1.93      0.00 \n",
      "l,m=5,1     -3.81     -2.23  |      3.81      2.23 \n",
      "l,m=5,2     48.31    -11.37  |     48.31    -11.37 \n",
      "l,m=5,3    191.95    147.66  |   -191.95   -147.66 \n",
      "l,m=5,4   -153.45   1227.59  |   -153.45   1227.59 \n",
      "l,m=5,5  -1328.91   2657.81  |   1328.91  -2657.81 \n"
     ]
    }
   ],
   "source": [
    "print(\"             Mine    |     scipy    \")\n",
    "print(\"          Amn   Bmn  |  Amn   Bmn\")\n",
    "# for (li, mi) in zip(l, m):\n",
    "\n",
    "for li in l:\n",
    "    for mi in range(li+1):\n",
    "        li = int(li)\n",
    "        mi = int(mi)\n",
    "        print(\"l,m={:1d},{:1d}  \"\n",
    "              \"{:8.2f}  {:8.2f}  |  {:8.2f}  {:8.2f} \".format(\n",
    "                  li, mi,      \n",
    "              A_coef(li, mi, x), B_coef(li, mi, x),\n",
    "              Afunc[mi,li], Bfunc[mi,li]))"
   ]
  },
  {
   "cell_type": "code",
   "execution_count": 14,
   "metadata": {},
   "outputs": [],
   "source": [
    "fac = np.sqrt(1-x*x)\n",
    "\n",
    "# Initialize the Amn and Bmn\n",
    "A_mat = np.zeros((l_max+1, l_max+1))\n",
    "B_mat = np.zeros((l_max+1, l_max+1))\n",
    "B_mat[1, 1] = 1\n",
    "B_mat[1, 0] = 0\n",
    "\n",
    "# Generate the sequence of Bmn\n",
    "for l in range(2, l_max+1):\n",
    "    for m in range(l+1)[::-1]:\n",
    "        if m:\n",
    "            if l == m:\n",
    "                B_mat[l, m] = fac * (2*m-1) * m / (m-1) * B_mat[m-1, m-1]\n",
    "            elif l == m+1:\n",
    "                B_mat[l, m] = (2*m+1) * x * B_mat[m, m]\n",
    "            else:\n",
    "                B_mat[l, m] = ((2*l-1)*x*B_mat[l-1, m] - (l-1+m)*B_mat[l-2, m])\n",
    "                B_mat[l, m] = B_mat[l, m] / (l-m)\n",
    "        else:\n",
    "            B_mat[l, m] = 0\n",
    "\n",
    "# Calculate Amn\n",
    "for l in range(1, l_max+1):\n",
    "    for m in range(l+1):\n",
    "        if m:\n",
    "            A_mat[l, m] = (-x*l*B_mat[l, m]+(l+m)*B_mat[l-1, m]) / m\n",
    "        else:\n",
    "            A_mat[l, m] = fac * B_mat[l, 1]"
   ]
  },
  {
   "cell_type": "code",
   "execution_count": 15,
   "metadata": {},
   "outputs": [
    {
     "name": "stdout",
     "output_type": "stream",
     "text": [
      "             Mine    |     New    \n",
      "          Amn   Bmn  |  Amn   Bmn\n",
      "l,m=0,0      0.00      0.00  |      0.00      0.00 \n",
      "l,m=1,0      0.87      0.00  |      0.87      0.00 \n",
      "l,m=1,1     -0.50      1.00  |     -0.50      1.00 \n",
      "l,m=2,0      1.30      0.00  |      1.30      0.00 \n",
      "l,m=2,1      1.50      1.50  |      1.50      1.50 \n",
      "l,m=2,2     -2.60      5.20  |     -2.60      5.20 \n",
      "l,m=3,0      0.32      0.00  |      0.32      0.00 \n",
      "l,m=3,1      5.44      0.38  |      5.44      0.38 \n",
      "l,m=3,2      3.25     12.99  |      3.25     12.99 \n",
      "l,m=3,3    -16.88     33.75  |    -16.88     33.75 \n",
      "l,m=4,0     -1.35      0.00  |     -1.35      0.00 \n",
      "l,m=4,1      5.00     -1.56  |      5.00     -1.56 \n",
      "l,m=4,2     29.23      9.74  |     29.23      9.74 \n",
      "l,m=4,3      0.00    118.12  |      0.00    118.12 \n",
      "l,m=4,4   -136.40    272.80  |   -136.40    272.80 \n",
      "l,m=5,0     -1.93      0.00  |     -1.93      0.00 \n",
      "l,m=5,1     -3.81     -2.23  |     -3.81     -2.23 \n",
      "l,m=5,2     48.31    -11.37  |     48.31    -11.37 \n",
      "l,m=5,3    191.95    147.66  |    191.95    147.66 \n",
      "l,m=5,4   -153.45   1227.59  |   -153.45   1227.59 \n",
      "l,m=5,5  -1328.91   2657.81  |  -1328.91   2657.81 \n"
     ]
    }
   ],
   "source": [
    "print(\"             Mine    |     New    \")\n",
    "print(\"          Amn   Bmn  |  Amn   Bmn\")\n",
    "# for (li, mi) in zip(l, m):\n",
    "\n",
    "for li in range(l_max+1):\n",
    "    for mi in range(li+1):\n",
    "        li = int(li)\n",
    "        mi = int(mi)\n",
    "        print(\"l,m={:1d},{:1d}  \"\n",
    "              \"{:8.2f}  {:8.2f}  |  \"\n",
    "              \"{:8.2f}  {:8.2f} \".format(\n",
    "                  li, mi, \n",
    "                  A_coef(li, mi, x), B_coef(li, mi, x),\n",
    "                  A_mat[li,mi], B_mat[li,mi]))"
   ]
  },
  {
   "cell_type": "code",
   "execution_count": 16,
   "metadata": {},
   "outputs": [
    {
     "data": {
      "text/plain": [
       "(array([ 4.88602512e-01,  1.72747075e-01,  7.72548404e-01, -4.66873303e-17,\n",
       "         1.57695783e-01]),\n",
       " array([ 0.        , -0.42314219,  0.        , -0.3862742 ,  0.3862742 ]),\n",
       " array([-0.00000000e+00, -2.99206710e-01, -0.00000000e+00,  8.08648282e-17,\n",
       "         2.73137108e-01]),\n",
       " array([-0.        , -0.24430126, -0.        , -0.22301551, -0.22301551]))"
      ]
     },
     "execution_count": 16,
     "metadata": {},
     "output_type": "execute_result"
    }
   ],
   "source": [
    "from vec_sph_harm import real_vec_sph_harm_proj\n",
    "\n",
    "l_max = 2\n",
    "real_vec_sph_harm_proj(l_max, ra, dec)"
   ]
  },
  {
   "cell_type": "code",
   "execution_count": 19,
   "metadata": {},
   "outputs": [
    {
     "name": "stdout",
     "output_type": "stream",
     "text": [
      "1 0 (0.24430125595146, 0.0)\n",
      "1 1 (0.17274707473566778, -0.4231421876608172, -0.2992067103010745, -0.24430125595146002)\n",
      "2 0 (0.38627420202318963, 0.0)\n",
      "2 1 (-4.668733033545537e-17, -0.3862742020231896, 8.08648282107604e-17, -0.22301551451909643)\n",
      "2 2 (0.15769578262625994, 0.3862742020231897, 0.2731371076480198, -0.22301551451909635)\n"
     ]
    }
   ],
   "source": [
    "from vec_sph_harm_201124 import real_vec_sph_harm_proj\n",
    "\n",
    "for l in range(1, l_max+1):\n",
    "    for m in range(l+1):\n",
    "        print(l, m, real_vec_sph_harm_proj(l, m, ra, dec))"
   ]
  }
 ],
 "metadata": {
  "hide_input": false,
  "kernelspec": {
   "display_name": "Python 3",
   "language": "python",
   "name": "python3"
  },
  "language_info": {
   "codemirror_mode": {
    "name": "ipython",
    "version": 3
   },
   "file_extension": ".py",
   "mimetype": "text/x-python",
   "name": "python",
   "nbconvert_exporter": "python",
   "pygments_lexer": "ipython3",
   "version": "3.7.9"
  },
  "latex_envs": {
   "LaTeX_envs_menu_present": true,
   "autoclose": false,
   "autocomplete": true,
   "bibliofile": "biblio.bib",
   "cite_by": "apalike",
   "current_citInitial": 1,
   "eqLabelWithNumbers": true,
   "eqNumInitial": 1,
   "hotkeys": {
    "equation": "Ctrl-E",
    "itemize": "Ctrl-I"
   },
   "labels_anchors": false,
   "latex_user_defs": false,
   "report_style_numbering": false,
   "user_envs_cfg": false
  }
 },
 "nbformat": 4,
 "nbformat_minor": 4
}
